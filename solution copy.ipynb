{
 "cells": [
  {
   "cell_type": "code",
   "execution_count": 1,
   "metadata": {},
   "outputs": [],
   "source": [
    "import numpy as np\n",
    "import pandas as pd\n",
    "import matplotlib.pyplot as plt\n",
    "import os\n",
    "import ast"
   ]
  },
  {
   "cell_type": "code",
   "execution_count": 2,
   "metadata": {},
   "outputs": [
    {
     "data": {
      "text/html": "<div>\n<style scoped>\n    .dataframe tbody tr th:only-of-type {\n        vertical-align: middle;\n    }\n\n    .dataframe tbody tr th {\n        vertical-align: top;\n    }\n\n    .dataframe thead th {\n        text-align: right;\n    }\n</style>\n<table border=\"1\" class=\"dataframe\">\n  <thead>\n    <tr style=\"text-align: right;\">\n      <th></th>\n      <th>id</th>\n      <th>belongs_to_collection</th>\n      <th>budget</th>\n      <th>genres</th>\n      <th>homepage</th>\n      <th>imdb_id</th>\n      <th>original_language</th>\n      <th>original_title</th>\n      <th>overview</th>\n      <th>popularity</th>\n      <th>...</th>\n      <th>release_date</th>\n      <th>runtime</th>\n      <th>spoken_languages</th>\n      <th>status</th>\n      <th>tagline</th>\n      <th>title</th>\n      <th>Keywords</th>\n      <th>cast</th>\n      <th>crew</th>\n      <th>revenue</th>\n    </tr>\n  </thead>\n  <tbody>\n    <tr>\n      <th>0</th>\n      <td>1</td>\n      <td>[{'id': 313576, 'name': 'Hot Tub Time Machine ...</td>\n      <td>14000000</td>\n      <td>[{'id': 35, 'name': 'Comedy'}]</td>\n      <td>NaN</td>\n      <td>tt2637294</td>\n      <td>en</td>\n      <td>Hot Tub Time Machine 2</td>\n      <td>When Lou, who has become the \"father of the In...</td>\n      <td>6.575393</td>\n      <td>...</td>\n      <td>2/20/15</td>\n      <td>93.0</td>\n      <td>[{'iso_639_1': 'en', 'name': 'English'}]</td>\n      <td>Released</td>\n      <td>The Laws of Space and Time are About to be Vio...</td>\n      <td>Hot Tub Time Machine 2</td>\n      <td>[{'id': 4379, 'name': 'time travel'}, {'id': 9...</td>\n      <td>[{'cast_id': 4, 'character': 'Lou', 'credit_id...</td>\n      <td>[{'credit_id': '59ac067c92514107af02c8c8', 'de...</td>\n      <td>12314651</td>\n    </tr>\n    <tr>\n      <th>1</th>\n      <td>2</td>\n      <td>[{'id': 107674, 'name': 'The Princess Diaries ...</td>\n      <td>40000000</td>\n      <td>[{'id': 35, 'name': 'Comedy'}, {'id': 18, 'nam...</td>\n      <td>NaN</td>\n      <td>tt0368933</td>\n      <td>en</td>\n      <td>The Princess Diaries 2: Royal Engagement</td>\n      <td>Mia Thermopolis is now a college graduate and ...</td>\n      <td>8.248895</td>\n      <td>...</td>\n      <td>8/6/04</td>\n      <td>113.0</td>\n      <td>[{'iso_639_1': 'en', 'name': 'English'}]</td>\n      <td>Released</td>\n      <td>It can take a lifetime to find true love; she'...</td>\n      <td>The Princess Diaries 2: Royal Engagement</td>\n      <td>[{'id': 2505, 'name': 'coronation'}, {'id': 42...</td>\n      <td>[{'cast_id': 1, 'character': 'Mia Thermopolis'...</td>\n      <td>[{'credit_id': '52fe43fe9251416c7502563d', 'de...</td>\n      <td>95149435</td>\n    </tr>\n    <tr>\n      <th>2</th>\n      <td>3</td>\n      <td>NaN</td>\n      <td>3300000</td>\n      <td>[{'id': 18, 'name': 'Drama'}]</td>\n      <td>http://sonyclassics.com/whiplash/</td>\n      <td>tt2582802</td>\n      <td>en</td>\n      <td>Whiplash</td>\n      <td>Under the direction of a ruthless instructor, ...</td>\n      <td>64.299990</td>\n      <td>...</td>\n      <td>10/10/14</td>\n      <td>105.0</td>\n      <td>[{'iso_639_1': 'en', 'name': 'English'}]</td>\n      <td>Released</td>\n      <td>The road to greatness can take you to the edge.</td>\n      <td>Whiplash</td>\n      <td>[{'id': 1416, 'name': 'jazz'}, {'id': 1523, 'n...</td>\n      <td>[{'cast_id': 5, 'character': 'Andrew Neimann',...</td>\n      <td>[{'credit_id': '54d5356ec3a3683ba0000039', 'de...</td>\n      <td>13092000</td>\n    </tr>\n    <tr>\n      <th>3</th>\n      <td>4</td>\n      <td>NaN</td>\n      <td>1200000</td>\n      <td>[{'id': 53, 'name': 'Thriller'}, {'id': 18, 'n...</td>\n      <td>http://kahaanithefilm.com/</td>\n      <td>tt1821480</td>\n      <td>hi</td>\n      <td>Kahaani</td>\n      <td>Vidya Bagchi (Vidya Balan) arrives in Kolkata ...</td>\n      <td>3.174936</td>\n      <td>...</td>\n      <td>3/9/12</td>\n      <td>122.0</td>\n      <td>[{'iso_639_1': 'en', 'name': 'English'}, {'iso...</td>\n      <td>Released</td>\n      <td>NaN</td>\n      <td>Kahaani</td>\n      <td>[{'id': 10092, 'name': 'mystery'}, {'id': 1054...</td>\n      <td>[{'cast_id': 1, 'character': 'Vidya Bagchi', '...</td>\n      <td>[{'credit_id': '52fe48779251416c9108d6eb', 'de...</td>\n      <td>16000000</td>\n    </tr>\n    <tr>\n      <th>4</th>\n      <td>5</td>\n      <td>NaN</td>\n      <td>0</td>\n      <td>[{'id': 28, 'name': 'Action'}, {'id': 53, 'nam...</td>\n      <td>NaN</td>\n      <td>tt1380152</td>\n      <td>ko</td>\n      <td>마린보이</td>\n      <td>Marine Boy is the story of a former national s...</td>\n      <td>1.148070</td>\n      <td>...</td>\n      <td>2/5/09</td>\n      <td>118.0</td>\n      <td>[{'iso_639_1': 'ko', 'name': '한국어/조선말'}]</td>\n      <td>Released</td>\n      <td>NaN</td>\n      <td>Marine Boy</td>\n      <td>NaN</td>\n      <td>[{'cast_id': 3, 'character': 'Chun-soo', 'cred...</td>\n      <td>[{'credit_id': '52fe464b9251416c75073b43', 'de...</td>\n      <td>3923970</td>\n    </tr>\n  </tbody>\n</table>\n<p>5 rows × 23 columns</p>\n</div>",
      "text/plain": "   id                              belongs_to_collection    budget  \\\n0   1  [{'id': 313576, 'name': 'Hot Tub Time Machine ...  14000000   \n1   2  [{'id': 107674, 'name': 'The Princess Diaries ...  40000000   \n2   3                                                NaN   3300000   \n3   4                                                NaN   1200000   \n4   5                                                NaN         0   \n\n                                              genres  \\\n0                     [{'id': 35, 'name': 'Comedy'}]   \n1  [{'id': 35, 'name': 'Comedy'}, {'id': 18, 'nam...   \n2                      [{'id': 18, 'name': 'Drama'}]   \n3  [{'id': 53, 'name': 'Thriller'}, {'id': 18, 'n...   \n4  [{'id': 28, 'name': 'Action'}, {'id': 53, 'nam...   \n\n                            homepage    imdb_id original_language  \\\n0                                NaN  tt2637294                en   \n1                                NaN  tt0368933                en   \n2  http://sonyclassics.com/whiplash/  tt2582802                en   \n3         http://kahaanithefilm.com/  tt1821480                hi   \n4                                NaN  tt1380152                ko   \n\n                             original_title  \\\n0                    Hot Tub Time Machine 2   \n1  The Princess Diaries 2: Royal Engagement   \n2                                  Whiplash   \n3                                   Kahaani   \n4                                      마린보이   \n\n                                            overview  popularity  ...  \\\n0  When Lou, who has become the \"father of the In...    6.575393  ...   \n1  Mia Thermopolis is now a college graduate and ...    8.248895  ...   \n2  Under the direction of a ruthless instructor, ...   64.299990  ...   \n3  Vidya Bagchi (Vidya Balan) arrives in Kolkata ...    3.174936  ...   \n4  Marine Boy is the story of a former national s...    1.148070  ...   \n\n  release_date runtime                                   spoken_languages  \\\n0      2/20/15    93.0           [{'iso_639_1': 'en', 'name': 'English'}]   \n1       8/6/04   113.0           [{'iso_639_1': 'en', 'name': 'English'}]   \n2     10/10/14   105.0           [{'iso_639_1': 'en', 'name': 'English'}]   \n3       3/9/12   122.0  [{'iso_639_1': 'en', 'name': 'English'}, {'iso...   \n4       2/5/09   118.0           [{'iso_639_1': 'ko', 'name': '한국어/조선말'}]   \n\n     status                                            tagline  \\\n0  Released  The Laws of Space and Time are About to be Vio...   \n1  Released  It can take a lifetime to find true love; she'...   \n2  Released    The road to greatness can take you to the edge.   \n3  Released                                                NaN   \n4  Released                                                NaN   \n\n                                      title  \\\n0                    Hot Tub Time Machine 2   \n1  The Princess Diaries 2: Royal Engagement   \n2                                  Whiplash   \n3                                   Kahaani   \n4                                Marine Boy   \n\n                                            Keywords  \\\n0  [{'id': 4379, 'name': 'time travel'}, {'id': 9...   \n1  [{'id': 2505, 'name': 'coronation'}, {'id': 42...   \n2  [{'id': 1416, 'name': 'jazz'}, {'id': 1523, 'n...   \n3  [{'id': 10092, 'name': 'mystery'}, {'id': 1054...   \n4                                                NaN   \n\n                                                cast  \\\n0  [{'cast_id': 4, 'character': 'Lou', 'credit_id...   \n1  [{'cast_id': 1, 'character': 'Mia Thermopolis'...   \n2  [{'cast_id': 5, 'character': 'Andrew Neimann',...   \n3  [{'cast_id': 1, 'character': 'Vidya Bagchi', '...   \n4  [{'cast_id': 3, 'character': 'Chun-soo', 'cred...   \n\n                                                crew   revenue  \n0  [{'credit_id': '59ac067c92514107af02c8c8', 'de...  12314651  \n1  [{'credit_id': '52fe43fe9251416c7502563d', 'de...  95149435  \n2  [{'credit_id': '54d5356ec3a3683ba0000039', 'de...  13092000  \n3  [{'credit_id': '52fe48779251416c9108d6eb', 'de...  16000000  \n4  [{'credit_id': '52fe464b9251416c75073b43', 'de...   3923970  \n\n[5 rows x 23 columns]"
     },
     "execution_count": 2,
     "metadata": {},
     "output_type": "execute_result"
    }
   ],
   "source": [
    "# Training data\n",
    "train = pd.read_csv(\"/home/kito/Desktop/sem5/მანქანური სწავლება/tmdb-box-office-prediction/train.csv\")\n",
    "# Test data\n",
    "test = pd.read_csv(\"/home/kito/Desktop/sem5/მანქანური სწავლება/tmdb-box-office-prediction/test.csv\")\n",
    "\n",
    "train.head()"
   ]
  },
  {
   "cell_type": "code",
   "execution_count": 3,
   "metadata": {},
   "outputs": [
    {
     "name": "stderr",
     "output_type": "stream",
     "text": "/usr/local/lib/python3.6/dist-packages/ipykernel_launcher.py:8: SettingWithCopyWarning: \nA value is trying to be set on a copy of a slice from a DataFrame\n\nSee the caveats in the documentation: http://pandas.pydata.org/pandas-docs/stable/user_guide/indexing.html#returning-a-view-versus-a-copy\n  \n/usr/local/lib/python3.6/dist-packages/IPython/core/interactiveshell.py:3326: SettingWithCopyWarning: \nA value is trying to be set on a copy of a slice from a DataFrame\n\nSee the caveats in the documentation: http://pandas.pydata.org/pandas-docs/stable/user_guide/indexing.html#returning-a-view-versus-a-copy\n  exec(code_obj, self.user_global_ns, self.user_ns)\n/usr/local/lib/python3.6/dist-packages/ipykernel_launcher.py:7: SettingWithCopyWarning: \nA value is trying to be set on a copy of a slice from a DataFrame\n\nSee the caveats in the documentation: http://pandas.pydata.org/pandas-docs/stable/user_guide/indexing.html#returning-a-view-versus-a-copy\n  import sys\n/usr/local/lib/python3.6/dist-packages/ipykernel_launcher.py:9: SettingWithCopyWarning: \nA value is trying to be set on a copy of a slice from a DataFrame.\nTry using .loc[row_indexer,col_indexer] = value instead\n\nSee the caveats in the documentation: http://pandas.pydata.org/pandas-docs/stable/user_guide/indexing.html#returning-a-view-versus-a-copy\n  if __name__ == '__main__':\n/usr/local/lib/python3.6/dist-packages/ipykernel_launcher.py:17: SettingWithCopyWarning: \nA value is trying to be set on a copy of a slice from a DataFrame\n\nSee the caveats in the documentation: http://pandas.pydata.org/pandas-docs/stable/user_guide/indexing.html#returning-a-view-versus-a-copy\n/usr/local/lib/python3.6/dist-packages/ipykernel_launcher.py:14: SettingWithCopyWarning: \nA value is trying to be set on a copy of a slice from a DataFrame\n\nSee the caveats in the documentation: http://pandas.pydata.org/pandas-docs/stable/user_guide/indexing.html#returning-a-view-versus-a-copy\n  \n"
    },
    {
     "data": {
      "text/html": "<div>\n<style scoped>\n    .dataframe tbody tr th:only-of-type {\n        vertical-align: middle;\n    }\n\n    .dataframe tbody tr th {\n        vertical-align: top;\n    }\n\n    .dataframe thead th {\n        text-align: right;\n    }\n</style>\n<table border=\"1\" class=\"dataframe\">\n  <thead>\n    <tr style=\"text-align: right;\">\n      <th></th>\n      <th>belongs_to_collection</th>\n      <th>budget</th>\n      <th>popularity</th>\n      <th>runtime</th>\n      <th>genres_0</th>\n      <th>genres_1</th>\n      <th>genres_2</th>\n      <th>genres_3</th>\n      <th>genres_4</th>\n      <th>genres_5</th>\n      <th>...</th>\n      <th>original_language_sr</th>\n      <th>original_language_sv</th>\n      <th>original_language_ta</th>\n      <th>original_language_te</th>\n      <th>original_language_tr</th>\n      <th>original_language_ur</th>\n      <th>original_language_vi</th>\n      <th>original_language_zh</th>\n      <th>status_Released</th>\n      <th>status_Rumored</th>\n    </tr>\n  </thead>\n  <tbody>\n    <tr>\n      <th>0</th>\n      <td>1</td>\n      <td>14000000</td>\n      <td>6.575393</td>\n      <td>93.0</td>\n      <td>0</td>\n      <td>1</td>\n      <td>0</td>\n      <td>0</td>\n      <td>0</td>\n      <td>0</td>\n      <td>...</td>\n      <td>0</td>\n      <td>0</td>\n      <td>0</td>\n      <td>0</td>\n      <td>0</td>\n      <td>0</td>\n      <td>0</td>\n      <td>0</td>\n      <td>1</td>\n      <td>0</td>\n    </tr>\n    <tr>\n      <th>1</th>\n      <td>1</td>\n      <td>40000000</td>\n      <td>8.248895</td>\n      <td>113.0</td>\n      <td>0</td>\n      <td>0</td>\n      <td>0</td>\n      <td>0</td>\n      <td>1</td>\n      <td>0</td>\n      <td>...</td>\n      <td>0</td>\n      <td>0</td>\n      <td>0</td>\n      <td>0</td>\n      <td>0</td>\n      <td>0</td>\n      <td>0</td>\n      <td>0</td>\n      <td>1</td>\n      <td>0</td>\n    </tr>\n    <tr>\n      <th>2</th>\n      <td>0</td>\n      <td>3300000</td>\n      <td>64.299990</td>\n      <td>105.0</td>\n      <td>0</td>\n      <td>1</td>\n      <td>0</td>\n      <td>0</td>\n      <td>0</td>\n      <td>0</td>\n      <td>...</td>\n      <td>0</td>\n      <td>0</td>\n      <td>0</td>\n      <td>0</td>\n      <td>0</td>\n      <td>0</td>\n      <td>0</td>\n      <td>0</td>\n      <td>1</td>\n      <td>0</td>\n    </tr>\n    <tr>\n      <th>3</th>\n      <td>0</td>\n      <td>1200000</td>\n      <td>3.174936</td>\n      <td>122.0</td>\n      <td>0</td>\n      <td>0</td>\n      <td>1</td>\n      <td>0</td>\n      <td>0</td>\n      <td>0</td>\n      <td>...</td>\n      <td>0</td>\n      <td>0</td>\n      <td>0</td>\n      <td>0</td>\n      <td>0</td>\n      <td>0</td>\n      <td>0</td>\n      <td>0</td>\n      <td>1</td>\n      <td>0</td>\n    </tr>\n    <tr>\n      <th>4</th>\n      <td>0</td>\n      <td>0</td>\n      <td>1.148070</td>\n      <td>118.0</td>\n      <td>0</td>\n      <td>0</td>\n      <td>1</td>\n      <td>0</td>\n      <td>0</td>\n      <td>0</td>\n      <td>...</td>\n      <td>0</td>\n      <td>0</td>\n      <td>0</td>\n      <td>0</td>\n      <td>0</td>\n      <td>0</td>\n      <td>0</td>\n      <td>0</td>\n      <td>1</td>\n      <td>0</td>\n    </tr>\n  </tbody>\n</table>\n<p>5 rows × 50 columns</p>\n</div>",
      "text/plain": "   belongs_to_collection    budget  popularity  runtime  genres_0  genres_1  \\\n0                      1  14000000    6.575393     93.0         0         1   \n1                      1  40000000    8.248895    113.0         0         0   \n2                      0   3300000   64.299990    105.0         0         1   \n3                      0   1200000    3.174936    122.0         0         0   \n4                      0         0    1.148070    118.0         0         0   \n\n   genres_2  genres_3  genres_4  genres_5  ...  original_language_sr  \\\n0         0         0         0         0  ...                     0   \n1         0         0         1         0  ...                     0   \n2         0         0         0         0  ...                     0   \n3         1         0         0         0  ...                     0   \n4         1         0         0         0  ...                     0   \n\n   original_language_sv  original_language_ta  original_language_te  \\\n0                     0                     0                     0   \n1                     0                     0                     0   \n2                     0                     0                     0   \n3                     0                     0                     0   \n4                     0                     0                     0   \n\n   original_language_tr  original_language_ur  original_language_vi  \\\n0                     0                     0                     0   \n1                     0                     0                     0   \n2                     0                     0                     0   \n3                     0                     0                     0   \n4                     0                     0                     0   \n\n   original_language_zh  status_Released  status_Rumored  \n0                     0                1               0  \n1                     0                1               0  \n2                     0                1               0  \n3                     0                1               0  \n4                     0                1               0  \n\n[5 rows x 50 columns]"
     },
     "execution_count": 3,
     "metadata": {},
     "output_type": "execute_result"
    }
   ],
   "source": [
    "# Prepare training data dataframe.\n",
    "# Use 7 features for simple predictions\n",
    "trainX = train[['belongs_to_collection', 'budget', 'genres', 'original_language' ,'popularity', 'runtime', 'status']]\n",
    "# Fix belongs_to_collection column\n",
    "for i in range(len(trainX['belongs_to_collection'])):\n",
    "    if trainX['belongs_to_collection'][i] != trainX['belongs_to_collection'][i]:\n",
    "        trainX['belongs_to_collection'][i] = 0\n",
    "    else: trainX['belongs_to_collection'][i] = 1\n",
    "trainX['belongs_to_collection'] = pd.to_numeric(trainX['belongs_to_collection'])\n",
    "\n",
    "# Fix genres column\n",
    "for i in range(len(trainX['genres'])):\n",
    "    if trainX['genres'][i] != trainX['genres'][i]:\n",
    "        trainX['genres'][i] = 0\n",
    "    else:\n",
    "        curDict = ast.literal_eval(trainX['genres'][i])\n",
    "        trainX['genres'][i] = len(curDict)\n",
    "\n",
    "# For every unique entry in a feature that isn't numerical, create a column\n",
    "trainX = pd.get_dummies(trainX)\n",
    "# Replace every entry 'nan' with a zero\n",
    "trainX = trainX.fillna(0)\n",
    "trainX.head()"
   ]
  },
  {
   "cell_type": "code",
   "execution_count": 4,
   "metadata": {},
   "outputs": [
    {
     "name": "stderr",
     "output_type": "stream",
     "text": "/usr/local/lib/python3.6/dist-packages/ipykernel_launcher.py:8: SettingWithCopyWarning: \nA value is trying to be set on a copy of a slice from a DataFrame\n\nSee the caveats in the documentation: http://pandas.pydata.org/pandas-docs/stable/user_guide/indexing.html#returning-a-view-versus-a-copy\n  \n/usr/local/lib/python3.6/dist-packages/ipykernel_launcher.py:7: SettingWithCopyWarning: \nA value is trying to be set on a copy of a slice from a DataFrame\n\nSee the caveats in the documentation: http://pandas.pydata.org/pandas-docs/stable/user_guide/indexing.html#returning-a-view-versus-a-copy\n  import sys\n/usr/local/lib/python3.6/dist-packages/ipykernel_launcher.py:9: SettingWithCopyWarning: \nA value is trying to be set on a copy of a slice from a DataFrame.\nTry using .loc[row_indexer,col_indexer] = value instead\n\nSee the caveats in the documentation: http://pandas.pydata.org/pandas-docs/stable/user_guide/indexing.html#returning-a-view-versus-a-copy\n  if __name__ == '__main__':\n/usr/local/lib/python3.6/dist-packages/ipykernel_launcher.py:17: SettingWithCopyWarning: \nA value is trying to be set on a copy of a slice from a DataFrame\n\nSee the caveats in the documentation: http://pandas.pydata.org/pandas-docs/stable/user_guide/indexing.html#returning-a-view-versus-a-copy\n/usr/local/lib/python3.6/dist-packages/ipykernel_launcher.py:14: SettingWithCopyWarning: \nA value is trying to be set on a copy of a slice from a DataFrame\n\nSee the caveats in the documentation: http://pandas.pydata.org/pandas-docs/stable/user_guide/indexing.html#returning-a-view-versus-a-copy\n  \n"
    },
    {
     "data": {
      "text/html": "<div>\n<style scoped>\n    .dataframe tbody tr th:only-of-type {\n        vertical-align: middle;\n    }\n\n    .dataframe tbody tr th {\n        vertical-align: top;\n    }\n\n    .dataframe thead th {\n        text-align: right;\n    }\n</style>\n<table border=\"1\" class=\"dataframe\">\n  <thead>\n    <tr style=\"text-align: right;\">\n      <th></th>\n      <th>belongs_to_collection</th>\n      <th>budget</th>\n      <th>popularity</th>\n      <th>runtime</th>\n      <th>genres_0</th>\n      <th>genres_1</th>\n      <th>genres_2</th>\n      <th>genres_3</th>\n      <th>genres_4</th>\n      <th>genres_5</th>\n      <th>...</th>\n      <th>original_language_ta</th>\n      <th>original_language_te</th>\n      <th>original_language_th</th>\n      <th>original_language_tr</th>\n      <th>original_language_ur</th>\n      <th>original_language_xx</th>\n      <th>original_language_zh</th>\n      <th>status_Post Production</th>\n      <th>status_Released</th>\n      <th>status_Rumored</th>\n    </tr>\n  </thead>\n  <tbody>\n    <tr>\n      <th>0</th>\n      <td>1</td>\n      <td>0</td>\n      <td>3.851534</td>\n      <td>90.0</td>\n      <td>0</td>\n      <td>0</td>\n      <td>0</td>\n      <td>0</td>\n      <td>1</td>\n      <td>0</td>\n      <td>...</td>\n      <td>0</td>\n      <td>0</td>\n      <td>0</td>\n      <td>0</td>\n      <td>0</td>\n      <td>0</td>\n      <td>0</td>\n      <td>0</td>\n      <td>1</td>\n      <td>0</td>\n    </tr>\n    <tr>\n      <th>1</th>\n      <td>0</td>\n      <td>88000</td>\n      <td>3.559789</td>\n      <td>65.0</td>\n      <td>0</td>\n      <td>0</td>\n      <td>1</td>\n      <td>0</td>\n      <td>0</td>\n      <td>0</td>\n      <td>...</td>\n      <td>0</td>\n      <td>0</td>\n      <td>0</td>\n      <td>0</td>\n      <td>0</td>\n      <td>0</td>\n      <td>0</td>\n      <td>0</td>\n      <td>1</td>\n      <td>0</td>\n    </tr>\n    <tr>\n      <th>2</th>\n      <td>0</td>\n      <td>0</td>\n      <td>8.085194</td>\n      <td>100.0</td>\n      <td>0</td>\n      <td>0</td>\n      <td>1</td>\n      <td>0</td>\n      <td>0</td>\n      <td>0</td>\n      <td>...</td>\n      <td>0</td>\n      <td>0</td>\n      <td>0</td>\n      <td>0</td>\n      <td>0</td>\n      <td>0</td>\n      <td>0</td>\n      <td>0</td>\n      <td>1</td>\n      <td>0</td>\n    </tr>\n    <tr>\n      <th>3</th>\n      <td>0</td>\n      <td>6800000</td>\n      <td>8.596012</td>\n      <td>130.0</td>\n      <td>0</td>\n      <td>0</td>\n      <td>0</td>\n      <td>1</td>\n      <td>0</td>\n      <td>0</td>\n      <td>...</td>\n      <td>0</td>\n      <td>0</td>\n      <td>0</td>\n      <td>0</td>\n      <td>0</td>\n      <td>0</td>\n      <td>0</td>\n      <td>0</td>\n      <td>1</td>\n      <td>0</td>\n    </tr>\n    <tr>\n      <th>4</th>\n      <td>0</td>\n      <td>2000000</td>\n      <td>3.217680</td>\n      <td>92.0</td>\n      <td>0</td>\n      <td>0</td>\n      <td>1</td>\n      <td>0</td>\n      <td>0</td>\n      <td>0</td>\n      <td>...</td>\n      <td>0</td>\n      <td>0</td>\n      <td>0</td>\n      <td>0</td>\n      <td>0</td>\n      <td>0</td>\n      <td>0</td>\n      <td>0</td>\n      <td>1</td>\n      <td>0</td>\n    </tr>\n  </tbody>\n</table>\n<p>5 rows × 55 columns</p>\n</div>",
      "text/plain": "   belongs_to_collection   budget  popularity  runtime  genres_0  genres_1  \\\n0                      1        0    3.851534     90.0         0         0   \n1                      0    88000    3.559789     65.0         0         0   \n2                      0        0    8.085194    100.0         0         0   \n3                      0  6800000    8.596012    130.0         0         0   \n4                      0  2000000    3.217680     92.0         0         0   \n\n   genres_2  genres_3  genres_4  genres_5  ...  original_language_ta  \\\n0         0         0         1         0  ...                     0   \n1         1         0         0         0  ...                     0   \n2         1         0         0         0  ...                     0   \n3         0         1         0         0  ...                     0   \n4         1         0         0         0  ...                     0   \n\n   original_language_te  original_language_th  original_language_tr  \\\n0                     0                     0                     0   \n1                     0                     0                     0   \n2                     0                     0                     0   \n3                     0                     0                     0   \n4                     0                     0                     0   \n\n   original_language_ur  original_language_xx  original_language_zh  \\\n0                     0                     0                     0   \n1                     0                     0                     0   \n2                     0                     0                     0   \n3                     0                     0                     0   \n4                     0                     0                     0   \n\n   status_Post Production  status_Released  status_Rumored  \n0                       0                1               0  \n1                       0                1               0  \n2                       0                1               0  \n3                       0                1               0  \n4                       0                1               0  \n\n[5 rows x 55 columns]"
     },
     "execution_count": 4,
     "metadata": {},
     "output_type": "execute_result"
    }
   ],
   "source": [
    "# Prepare test data dataframe.\n",
    "testX = test[['belongs_to_collection', 'budget', 'genres', 'original_language' ,'popularity', 'runtime', 'status']]\n",
    "\n",
    "# Fix belongs_to_collection column\n",
    "for i in range(len(testX['belongs_to_collection'])):\n",
    "    if testX['belongs_to_collection'][i] != testX['belongs_to_collection'][i]:\n",
    "        testX['belongs_to_collection'][i] = 0\n",
    "    else: testX['belongs_to_collection'][i] = 1\n",
    "testX['belongs_to_collection'] = pd.to_numeric(testX['belongs_to_collection'])\n",
    "\n",
    "# Fix genres column\n",
    "for i in range(len(testX['genres'])):\n",
    "    if testX['genres'][i] != testX['genres'][i]:\n",
    "        testX['genres'][i] = 0\n",
    "    else:\n",
    "        curDict = ast.literal_eval(testX['genres'][i])\n",
    "        testX['genres'][i] = len(curDict)\n",
    "\n",
    "# For every unique entry in a feature that isn't numerical, create a column\n",
    "# Every entry will have a column for every unique feature value, but only its own\n",
    "# feature value will be 1, others will be 0\n",
    "testX = pd.get_dummies(testX)\n",
    "# Replace every entry 'nan' with a zero\n",
    "testX = testX.fillna(0)\n",
    "testX.head()"
   ]
  },
  {
   "cell_type": "code",
   "execution_count": 5,
   "metadata": {},
   "outputs": [
    {
     "data": {
      "text/html": "<div>\n<style scoped>\n    .dataframe tbody tr th:only-of-type {\n        vertical-align: middle;\n    }\n\n    .dataframe tbody tr th {\n        vertical-align: top;\n    }\n\n    .dataframe thead th {\n        text-align: right;\n    }\n</style>\n<table border=\"1\" class=\"dataframe\">\n  <thead>\n    <tr style=\"text-align: right;\">\n      <th></th>\n      <th>revenue</th>\n    </tr>\n  </thead>\n  <tbody>\n    <tr>\n      <th>0</th>\n      <td>12314651</td>\n    </tr>\n    <tr>\n      <th>1</th>\n      <td>95149435</td>\n    </tr>\n    <tr>\n      <th>2</th>\n      <td>13092000</td>\n    </tr>\n    <tr>\n      <th>3</th>\n      <td>16000000</td>\n    </tr>\n    <tr>\n      <th>4</th>\n      <td>3923970</td>\n    </tr>\n    <tr>\n      <th>...</th>\n      <td>...</td>\n    </tr>\n    <tr>\n      <th>2995</th>\n      <td>1596687</td>\n    </tr>\n    <tr>\n      <th>2996</th>\n      <td>180590</td>\n    </tr>\n    <tr>\n      <th>2997</th>\n      <td>89456761</td>\n    </tr>\n    <tr>\n      <th>2998</th>\n      <td>171963386</td>\n    </tr>\n    <tr>\n      <th>2999</th>\n      <td>82087155</td>\n    </tr>\n  </tbody>\n</table>\n<p>3000 rows × 1 columns</p>\n</div>",
      "text/plain": "        revenue\n0      12314651\n1      95149435\n2      13092000\n3      16000000\n4       3923970\n...         ...\n2995    1596687\n2996     180590\n2997   89456761\n2998  171963386\n2999   82087155\n\n[3000 rows x 1 columns]"
     },
     "execution_count": 5,
     "metadata": {},
     "output_type": "execute_result"
    }
   ],
   "source": [
    "# Extract target variable from training set\n",
    "trainY = train[['revenue']]\n",
    "trainY"
   ]
  },
  {
   "cell_type": "code",
   "execution_count": 6,
   "metadata": {},
   "outputs": [],
   "source": [
    "# Must create any column that is unique to train/test data in other data too.\n",
    "# For example, there might be language entry 'GE' in test data, but not in train data,\n",
    "# which may lead to bugs\n",
    "trainX, testX = trainX.align(testX, join='outer', axis=1, fill_value=0)"
   ]
  },
  {
   "cell_type": "code",
   "execution_count": 7,
   "metadata": {},
   "outputs": [],
   "source": [
    "# Scale features by normalization to avoid overflow and bias towards columns\n",
    "def scaleFeature(dataFrame, column, trainX):\n",
    "    stdVal = np.nanstd(trainX[column])\n",
    "    meanVal = np.mean(trainX[column])\n",
    "    dataFrame[column] = (dataFrame[column] - meanVal)/stdVal"
   ]
  },
  {
   "cell_type": "code",
   "execution_count": 8,
   "metadata": {},
   "outputs": [
    {
     "data": {
      "text/html": "<div>\n<style scoped>\n    .dataframe tbody tr th:only-of-type {\n        vertical-align: middle;\n    }\n\n    .dataframe tbody tr th {\n        vertical-align: top;\n    }\n\n    .dataframe thead th {\n        text-align: right;\n    }\n</style>\n<table border=\"1\" class=\"dataframe\">\n  <thead>\n    <tr style=\"text-align: right;\">\n      <th></th>\n      <th>Ones</th>\n      <th>belongs_to_collection</th>\n      <th>budget</th>\n      <th>genres_0</th>\n      <th>genres_1</th>\n      <th>genres_2</th>\n      <th>genres_3</th>\n      <th>genres_4</th>\n      <th>genres_5</th>\n      <th>genres_6</th>\n      <th>...</th>\n      <th>original_language_tr</th>\n      <th>original_language_ur</th>\n      <th>original_language_vi</th>\n      <th>original_language_xx</th>\n      <th>original_language_zh</th>\n      <th>popularity</th>\n      <th>runtime</th>\n      <th>status_Post Production</th>\n      <th>status_Released</th>\n      <th>status_Rumored</th>\n    </tr>\n  </thead>\n  <tbody>\n    <tr>\n      <th>0</th>\n      <td>1</td>\n      <td>1</td>\n      <td>-0.608627</td>\n      <td>0</td>\n      <td>0</td>\n      <td>0</td>\n      <td>0</td>\n      <td>1</td>\n      <td>0</td>\n      <td>0</td>\n      <td>...</td>\n      <td>0</td>\n      <td>0</td>\n      <td>0</td>\n      <td>0</td>\n      <td>0</td>\n      <td>-0.381073</td>\n      <td>-0.799302</td>\n      <td>0</td>\n      <td>1</td>\n      <td>0</td>\n    </tr>\n    <tr>\n      <th>1</th>\n      <td>1</td>\n      <td>0</td>\n      <td>-0.606250</td>\n      <td>0</td>\n      <td>0</td>\n      <td>1</td>\n      <td>0</td>\n      <td>0</td>\n      <td>0</td>\n      <td>0</td>\n      <td>...</td>\n      <td>0</td>\n      <td>0</td>\n      <td>0</td>\n      <td>0</td>\n      <td>0</td>\n      <td>-0.405180</td>\n      <td>-1.922886</td>\n      <td>0</td>\n      <td>1</td>\n      <td>0</td>\n    </tr>\n    <tr>\n      <th>2</th>\n      <td>1</td>\n      <td>0</td>\n      <td>-0.608627</td>\n      <td>0</td>\n      <td>0</td>\n      <td>1</td>\n      <td>0</td>\n      <td>0</td>\n      <td>0</td>\n      <td>0</td>\n      <td>...</td>\n      <td>0</td>\n      <td>0</td>\n      <td>0</td>\n      <td>0</td>\n      <td>0</td>\n      <td>-0.031241</td>\n      <td>-0.349869</td>\n      <td>0</td>\n      <td>1</td>\n      <td>0</td>\n    </tr>\n    <tr>\n      <th>3</th>\n      <td>1</td>\n      <td>0</td>\n      <td>-0.424942</td>\n      <td>0</td>\n      <td>0</td>\n      <td>0</td>\n      <td>1</td>\n      <td>0</td>\n      <td>0</td>\n      <td>0</td>\n      <td>...</td>\n      <td>0</td>\n      <td>0</td>\n      <td>0</td>\n      <td>0</td>\n      <td>0</td>\n      <td>0.010968</td>\n      <td>0.998431</td>\n      <td>0</td>\n      <td>1</td>\n      <td>0</td>\n    </tr>\n    <tr>\n      <th>4</th>\n      <td>1</td>\n      <td>0</td>\n      <td>-0.554602</td>\n      <td>0</td>\n      <td>0</td>\n      <td>1</td>\n      <td>0</td>\n      <td>0</td>\n      <td>0</td>\n      <td>0</td>\n      <td>...</td>\n      <td>0</td>\n      <td>0</td>\n      <td>0</td>\n      <td>0</td>\n      <td>0</td>\n      <td>-0.433449</td>\n      <td>-0.709416</td>\n      <td>0</td>\n      <td>1</td>\n      <td>0</td>\n    </tr>\n    <tr>\n      <th>...</th>\n      <td>...</td>\n      <td>...</td>\n      <td>...</td>\n      <td>...</td>\n      <td>...</td>\n      <td>...</td>\n      <td>...</td>\n      <td>...</td>\n      <td>...</td>\n      <td>...</td>\n      <td>...</td>\n      <td>...</td>\n      <td>...</td>\n      <td>...</td>\n      <td>...</td>\n      <td>...</td>\n      <td>...</td>\n      <td>...</td>\n      <td>...</td>\n      <td>...</td>\n      <td>...</td>\n    </tr>\n    <tr>\n      <th>4393</th>\n      <td>1</td>\n      <td>0</td>\n      <td>0.525897</td>\n      <td>0</td>\n      <td>1</td>\n      <td>0</td>\n      <td>0</td>\n      <td>0</td>\n      <td>0</td>\n      <td>0</td>\n      <td>...</td>\n      <td>0</td>\n      <td>0</td>\n      <td>0</td>\n      <td>0</td>\n      <td>0</td>\n      <td>0.124532</td>\n      <td>0.459111</td>\n      <td>0</td>\n      <td>1</td>\n      <td>0</td>\n    </tr>\n    <tr>\n      <th>4394</th>\n      <td>1</td>\n      <td>1</td>\n      <td>-0.095390</td>\n      <td>0</td>\n      <td>0</td>\n      <td>0</td>\n      <td>0</td>\n      <td>1</td>\n      <td>0</td>\n      <td>0</td>\n      <td>...</td>\n      <td>0</td>\n      <td>0</td>\n      <td>0</td>\n      <td>0</td>\n      <td>0</td>\n      <td>-0.199699</td>\n      <td>-0.574586</td>\n      <td>0</td>\n      <td>1</td>\n      <td>0</td>\n    </tr>\n    <tr>\n      <th>4395</th>\n      <td>1</td>\n      <td>0</td>\n      <td>-0.176428</td>\n      <td>0</td>\n      <td>1</td>\n      <td>0</td>\n      <td>0</td>\n      <td>0</td>\n      <td>0</td>\n      <td>0</td>\n      <td>...</td>\n      <td>0</td>\n      <td>0</td>\n      <td>0</td>\n      <td>0</td>\n      <td>0</td>\n      <td>0.093671</td>\n      <td>0.953488</td>\n      <td>0</td>\n      <td>1</td>\n      <td>0</td>\n    </tr>\n    <tr>\n      <th>4396</th>\n      <td>1</td>\n      <td>0</td>\n      <td>-0.554602</td>\n      <td>0</td>\n      <td>0</td>\n      <td>1</td>\n      <td>0</td>\n      <td>0</td>\n      <td>0</td>\n      <td>0</td>\n      <td>...</td>\n      <td>0</td>\n      <td>0</td>\n      <td>0</td>\n      <td>0</td>\n      <td>0</td>\n      <td>0.982985</td>\n      <td>-0.349869</td>\n      <td>0</td>\n      <td>1</td>\n      <td>0</td>\n    </tr>\n    <tr>\n      <th>4397</th>\n      <td>1</td>\n      <td>0</td>\n      <td>-0.606899</td>\n      <td>0</td>\n      <td>1</td>\n      <td>0</td>\n      <td>0</td>\n      <td>0</td>\n      <td>0</td>\n      <td>0</td>\n      <td>...</td>\n      <td>0</td>\n      <td>0</td>\n      <td>0</td>\n      <td>0</td>\n      <td>0</td>\n      <td>0.234890</td>\n      <td>-1.024019</td>\n      <td>0</td>\n      <td>1</td>\n      <td>0</td>\n    </tr>\n  </tbody>\n</table>\n<p>4398 rows × 61 columns</p>\n</div>",
      "text/plain": "      Ones  belongs_to_collection    budget  genres_0  genres_1  genres_2  \\\n0        1                      1 -0.608627         0         0         0   \n1        1                      0 -0.606250         0         0         1   \n2        1                      0 -0.608627         0         0         1   \n3        1                      0 -0.424942         0         0         0   \n4        1                      0 -0.554602         0         0         1   \n...    ...                    ...       ...       ...       ...       ...   \n4393     1                      0  0.525897         0         1         0   \n4394     1                      1 -0.095390         0         0         0   \n4395     1                      0 -0.176428         0         1         0   \n4396     1                      0 -0.554602         0         0         1   \n4397     1                      0 -0.606899         0         1         0   \n\n      genres_3  genres_4  genres_5  genres_6  ...  original_language_tr  \\\n0            0         1         0         0  ...                     0   \n1            0         0         0         0  ...                     0   \n2            0         0         0         0  ...                     0   \n3            1         0         0         0  ...                     0   \n4            0         0         0         0  ...                     0   \n...        ...       ...       ...       ...  ...                   ...   \n4393         0         0         0         0  ...                     0   \n4394         0         1         0         0  ...                     0   \n4395         0         0         0         0  ...                     0   \n4396         0         0         0         0  ...                     0   \n4397         0         0         0         0  ...                     0   \n\n      original_language_ur  original_language_vi  original_language_xx  \\\n0                        0                     0                     0   \n1                        0                     0                     0   \n2                        0                     0                     0   \n3                        0                     0                     0   \n4                        0                     0                     0   \n...                    ...                   ...                   ...   \n4393                     0                     0                     0   \n4394                     0                     0                     0   \n4395                     0                     0                     0   \n4396                     0                     0                     0   \n4397                     0                     0                     0   \n\n      original_language_zh  popularity   runtime  status_Post Production  \\\n0                        0   -0.381073 -0.799302                       0   \n1                        0   -0.405180 -1.922886                       0   \n2                        0   -0.031241 -0.349869                       0   \n3                        0    0.010968  0.998431                       0   \n4                        0   -0.433449 -0.709416                       0   \n...                    ...         ...       ...                     ...   \n4393                     0    0.124532  0.459111                       0   \n4394                     0   -0.199699 -0.574586                       0   \n4395                     0    0.093671  0.953488                       0   \n4396                     0    0.982985 -0.349869                       0   \n4397                     0    0.234890 -1.024019                       0   \n\n      status_Released  status_Rumored  \n0                   1               0  \n1                   1               0  \n2                   1               0  \n3                   1               0  \n4                   1               0  \n...               ...             ...  \n4393                1               0  \n4394                1               0  \n4395                1               0  \n4396                1               0  \n4397                1               0  \n\n[4398 rows x 61 columns]"
     },
     "execution_count": 8,
     "metadata": {},
     "output_type": "execute_result"
    }
   ],
   "source": [
    "# Scale test data values\n",
    "scaleFeature(testX, 'budget', trainX)\n",
    "scaleFeature(testX, 'popularity', trainX)\n",
    "scaleFeature(testX, 'runtime', trainX)\n",
    "testX.insert( 0, 'Ones', 1)\n",
    "testX"
   ]
  },
  {
   "cell_type": "code",
   "execution_count": 9,
   "metadata": {},
   "outputs": [
    {
     "data": {
      "text/html": "<div>\n<style scoped>\n    .dataframe tbody tr th:only-of-type {\n        vertical-align: middle;\n    }\n\n    .dataframe tbody tr th {\n        vertical-align: top;\n    }\n\n    .dataframe thead th {\n        text-align: right;\n    }\n</style>\n<table border=\"1\" class=\"dataframe\">\n  <thead>\n    <tr style=\"text-align: right;\">\n      <th></th>\n      <th>Ones</th>\n      <th>belongs_to_collection</th>\n      <th>budget</th>\n      <th>genres_0</th>\n      <th>genres_1</th>\n      <th>genres_2</th>\n      <th>genres_3</th>\n      <th>genres_4</th>\n      <th>genres_5</th>\n      <th>genres_6</th>\n      <th>...</th>\n      <th>original_language_tr</th>\n      <th>original_language_ur</th>\n      <th>original_language_vi</th>\n      <th>original_language_xx</th>\n      <th>original_language_zh</th>\n      <th>popularity</th>\n      <th>runtime</th>\n      <th>status_Post Production</th>\n      <th>status_Released</th>\n      <th>status_Rumored</th>\n    </tr>\n  </thead>\n  <tbody>\n    <tr>\n      <th>0</th>\n      <td>1</td>\n      <td>1</td>\n      <td>-0.230453</td>\n      <td>0</td>\n      <td>1</td>\n      <td>0</td>\n      <td>0</td>\n      <td>0</td>\n      <td>0</td>\n      <td>0</td>\n      <td>...</td>\n      <td>0</td>\n      <td>0</td>\n      <td>0</td>\n      <td>0</td>\n      <td>0</td>\n      <td>-0.155998</td>\n      <td>-0.664472</td>\n      <td>0</td>\n      <td>1</td>\n      <td>0</td>\n    </tr>\n    <tr>\n      <th>1</th>\n      <td>1</td>\n      <td>1</td>\n      <td>0.471872</td>\n      <td>0</td>\n      <td>0</td>\n      <td>0</td>\n      <td>0</td>\n      <td>1</td>\n      <td>0</td>\n      <td>0</td>\n      <td>...</td>\n      <td>0</td>\n      <td>0</td>\n      <td>0</td>\n      <td>0</td>\n      <td>0</td>\n      <td>-0.017714</td>\n      <td>0.234395</td>\n      <td>0</td>\n      <td>1</td>\n      <td>0</td>\n    </tr>\n    <tr>\n      <th>2</th>\n      <td>1</td>\n      <td>0</td>\n      <td>-0.519486</td>\n      <td>0</td>\n      <td>1</td>\n      <td>0</td>\n      <td>0</td>\n      <td>0</td>\n      <td>0</td>\n      <td>0</td>\n      <td>...</td>\n      <td>0</td>\n      <td>0</td>\n      <td>0</td>\n      <td>0</td>\n      <td>0</td>\n      <td>4.613849</td>\n      <td>-0.125152</td>\n      <td>0</td>\n      <td>1</td>\n      <td>0</td>\n    </tr>\n    <tr>\n      <th>3</th>\n      <td>1</td>\n      <td>0</td>\n      <td>-0.576212</td>\n      <td>0</td>\n      <td>0</td>\n      <td>1</td>\n      <td>0</td>\n      <td>0</td>\n      <td>0</td>\n      <td>0</td>\n      <td>...</td>\n      <td>0</td>\n      <td>0</td>\n      <td>0</td>\n      <td>0</td>\n      <td>0</td>\n      <td>-0.436981</td>\n      <td>0.638885</td>\n      <td>0</td>\n      <td>1</td>\n      <td>0</td>\n    </tr>\n    <tr>\n      <th>4</th>\n      <td>1</td>\n      <td>0</td>\n      <td>-0.608627</td>\n      <td>0</td>\n      <td>0</td>\n      <td>1</td>\n      <td>0</td>\n      <td>0</td>\n      <td>0</td>\n      <td>0</td>\n      <td>...</td>\n      <td>0</td>\n      <td>0</td>\n      <td>0</td>\n      <td>0</td>\n      <td>0</td>\n      <td>-0.604463</td>\n      <td>0.459111</td>\n      <td>0</td>\n      <td>1</td>\n      <td>0</td>\n    </tr>\n    <tr>\n      <th>...</th>\n      <td>...</td>\n      <td>...</td>\n      <td>...</td>\n      <td>...</td>\n      <td>...</td>\n      <td>...</td>\n      <td>...</td>\n      <td>...</td>\n      <td>...</td>\n      <td>...</td>\n      <td>...</td>\n      <td>...</td>\n      <td>...</td>\n      <td>...</td>\n      <td>...</td>\n      <td>...</td>\n      <td>...</td>\n      <td>...</td>\n      <td>...</td>\n      <td>...</td>\n      <td>...</td>\n    </tr>\n    <tr>\n      <th>2995</th>\n      <td>1</td>\n      <td>0</td>\n      <td>-0.608627</td>\n      <td>0</td>\n      <td>0</td>\n      <td>1</td>\n      <td>0</td>\n      <td>0</td>\n      <td>0</td>\n      <td>0</td>\n      <td>...</td>\n      <td>0</td>\n      <td>0</td>\n      <td>0</td>\n      <td>0</td>\n      <td>0</td>\n      <td>0.114857</td>\n      <td>-0.259982</td>\n      <td>0</td>\n      <td>1</td>\n      <td>0</td>\n    </tr>\n    <tr>\n      <th>2996</th>\n      <td>1</td>\n      <td>0</td>\n      <td>-0.608627</td>\n      <td>0</td>\n      <td>0</td>\n      <td>1</td>\n      <td>0</td>\n      <td>0</td>\n      <td>0</td>\n      <td>0</td>\n      <td>...</td>\n      <td>0</td>\n      <td>0</td>\n      <td>0</td>\n      <td>0</td>\n      <td>0</td>\n      <td>-0.391281</td>\n      <td>-0.259982</td>\n      <td>0</td>\n      <td>1</td>\n      <td>0</td>\n    </tr>\n    <tr>\n      <th>2997</th>\n      <td>1</td>\n      <td>0</td>\n      <td>1.147184</td>\n      <td>0</td>\n      <td>0</td>\n      <td>0</td>\n      <td>0</td>\n      <td>1</td>\n      <td>0</td>\n      <td>0</td>\n      <td>...</td>\n      <td>0</td>\n      <td>0</td>\n      <td>0</td>\n      <td>0</td>\n      <td>0</td>\n      <td>0.497362</td>\n      <td>0.548998</td>\n      <td>0</td>\n      <td>1</td>\n      <td>0</td>\n    </tr>\n    <tr>\n      <th>2998</th>\n      <td>1</td>\n      <td>0</td>\n      <td>0.525897</td>\n      <td>0</td>\n      <td>0</td>\n      <td>1</td>\n      <td>0</td>\n      <td>0</td>\n      <td>0</td>\n      <td>0</td>\n      <td>...</td>\n      <td>0</td>\n      <td>0</td>\n      <td>0</td>\n      <td>0</td>\n      <td>0</td>\n      <td>0.600089</td>\n      <td>-0.799302</td>\n      <td>0</td>\n      <td>1</td>\n      <td>0</td>\n    </tr>\n    <tr>\n      <th>2999</th>\n      <td>1</td>\n      <td>0</td>\n      <td>0.336810</td>\n      <td>0</td>\n      <td>0</td>\n      <td>0</td>\n      <td>1</td>\n      <td>0</td>\n      <td>0</td>\n      <td>0</td>\n      <td>...</td>\n      <td>0</td>\n      <td>0</td>\n      <td>0</td>\n      <td>0</td>\n      <td>0</td>\n      <td>0.169297</td>\n      <td>-0.080209</td>\n      <td>0</td>\n      <td>1</td>\n      <td>0</td>\n    </tr>\n  </tbody>\n</table>\n<p>3000 rows × 61 columns</p>\n</div>",
      "text/plain": "      Ones  belongs_to_collection    budget  genres_0  genres_1  genres_2  \\\n0        1                      1 -0.230453         0         1         0   \n1        1                      1  0.471872         0         0         0   \n2        1                      0 -0.519486         0         1         0   \n3        1                      0 -0.576212         0         0         1   \n4        1                      0 -0.608627         0         0         1   \n...    ...                    ...       ...       ...       ...       ...   \n2995     1                      0 -0.608627         0         0         1   \n2996     1                      0 -0.608627         0         0         1   \n2997     1                      0  1.147184         0         0         0   \n2998     1                      0  0.525897         0         0         1   \n2999     1                      0  0.336810         0         0         0   \n\n      genres_3  genres_4  genres_5  genres_6  ...  original_language_tr  \\\n0            0         0         0         0  ...                     0   \n1            0         1         0         0  ...                     0   \n2            0         0         0         0  ...                     0   \n3            0         0         0         0  ...                     0   \n4            0         0         0         0  ...                     0   \n...        ...       ...       ...       ...  ...                   ...   \n2995         0         0         0         0  ...                     0   \n2996         0         0         0         0  ...                     0   \n2997         0         1         0         0  ...                     0   \n2998         0         0         0         0  ...                     0   \n2999         1         0         0         0  ...                     0   \n\n      original_language_ur  original_language_vi  original_language_xx  \\\n0                        0                     0                     0   \n1                        0                     0                     0   \n2                        0                     0                     0   \n3                        0                     0                     0   \n4                        0                     0                     0   \n...                    ...                   ...                   ...   \n2995                     0                     0                     0   \n2996                     0                     0                     0   \n2997                     0                     0                     0   \n2998                     0                     0                     0   \n2999                     0                     0                     0   \n\n      original_language_zh  popularity   runtime  status_Post Production  \\\n0                        0   -0.155998 -0.664472                       0   \n1                        0   -0.017714  0.234395                       0   \n2                        0    4.613849 -0.125152                       0   \n3                        0   -0.436981  0.638885                       0   \n4                        0   -0.604463  0.459111                       0   \n...                    ...         ...       ...                     ...   \n2995                     0    0.114857 -0.259982                       0   \n2996                     0   -0.391281 -0.259982                       0   \n2997                     0    0.497362  0.548998                       0   \n2998                     0    0.600089 -0.799302                       0   \n2999                     0    0.169297 -0.080209                       0   \n\n      status_Released  status_Rumored  \n0                   1               0  \n1                   1               0  \n2                   1               0  \n3                   1               0  \n4                   1               0  \n...               ...             ...  \n2995                1               0  \n2996                1               0  \n2997                1               0  \n2998                1               0  \n2999                1               0  \n\n[3000 rows x 61 columns]"
     },
     "execution_count": 9,
     "metadata": {},
     "output_type": "execute_result"
    }
   ],
   "source": [
    "# Scale train data features\n",
    "scaleFeature(trainX, 'budget', trainX)\n",
    "scaleFeature(trainX, 'popularity', trainX)\n",
    "scaleFeature(trainX, 'runtime', trainX)\n",
    "trainX.insert( 0, 'Ones', 1)\n",
    "trainX"
   ]
  },
  {
   "cell_type": "code",
   "execution_count": 10,
   "metadata": {},
   "outputs": [],
   "source": [
    "trainX = trainX.fillna(0)\n",
    "testX = testX.fillna(0)"
   ]
  },
  {
   "cell_type": "code",
   "execution_count": 11,
   "metadata": {},
   "outputs": [
    {
     "name": "stderr",
     "output_type": "stream",
     "text": "/usr/local/lib/python3.6/dist-packages/ipykernel_launcher.py:2: SettingWithCopyWarning: \nA value is trying to be set on a copy of a slice from a DataFrame.\nTry using .loc[row_indexer,col_indexer] = value instead\n\nSee the caveats in the documentation: http://pandas.pydata.org/pandas-docs/stable/user_guide/indexing.html#returning-a-view-versus-a-copy\n  \n/usr/local/lib/python3.6/dist-packages/ipykernel_launcher.py:5: SettingWithCopyWarning: \nA value is trying to be set on a copy of a slice from a DataFrame.\nTry using .loc[row_indexer,col_indexer] = value instead\n\nSee the caveats in the documentation: http://pandas.pydata.org/pandas-docs/stable/user_guide/indexing.html#returning-a-view-versus-a-copy\n  \"\"\"\n"
    },
    {
     "data": {
      "text/html": "<div>\n<style scoped>\n    .dataframe tbody tr th:only-of-type {\n        vertical-align: middle;\n    }\n\n    .dataframe tbody tr th {\n        vertical-align: top;\n    }\n\n    .dataframe thead th {\n        text-align: right;\n    }\n</style>\n<table border=\"1\" class=\"dataframe\">\n  <thead>\n    <tr style=\"text-align: right;\">\n      <th></th>\n      <th>revenue</th>\n    </tr>\n  </thead>\n  <tbody>\n    <tr>\n      <th>0</th>\n      <td>0.772233</td>\n    </tr>\n    <tr>\n      <th>1</th>\n      <td>0.868945</td>\n    </tr>\n    <tr>\n      <th>2</th>\n      <td>0.775128</td>\n    </tr>\n    <tr>\n      <th>3</th>\n      <td>0.784616</td>\n    </tr>\n    <tr>\n      <th>4</th>\n      <td>0.718136</td>\n    </tr>\n    <tr>\n      <th>...</th>\n      <td>...</td>\n    </tr>\n    <tr>\n      <th>2995</th>\n      <td>0.675606</td>\n    </tr>\n    <tr>\n      <th>2996</th>\n      <td>0.572517</td>\n    </tr>\n    <tr>\n      <th>2997</th>\n      <td>0.866027</td>\n    </tr>\n    <tr>\n      <th>2998</th>\n      <td>0.896939</td>\n    </tr>\n    <tr>\n      <th>2999</th>\n      <td>0.861960</td>\n    </tr>\n  </tbody>\n</table>\n<p>3000 rows × 1 columns</p>\n</div>",
      "text/plain": "       revenue\n0     0.772233\n1     0.868945\n2     0.775128\n3     0.784616\n4     0.718136\n...        ...\n2995  0.675606\n2996  0.572517\n2997  0.866027\n2998  0.896939\n2999  0.861960\n\n[3000 rows x 1 columns]"
     },
     "execution_count": 11,
     "metadata": {},
     "output_type": "execute_result"
    }
   ],
   "source": [
    "# Scale revenue from 0 to 1\n",
    "trainY['revenue'] = np.log(trainY['revenue'])\n",
    "rangeVal = max(trainY['revenue']) - min(trainY['revenue'])\n",
    "minVal = min(trainY['revenue'])\n",
    "trainY['revenue'] = (trainY['revenue'] - minVal)/rangeVal\n",
    "trainY"
   ]
  },
  {
   "cell_type": "code",
   "execution_count": 12,
   "metadata": {},
   "outputs": [],
   "source": [
    "# Get value matrixes from the dataframes\n",
    "trainXVals = np.matrix(trainX.values)\n",
    "trainYVals = np.matrix(trainY.values)\n",
    "testXVals  = np.matrix(testX.values)\n",
    "# Initialize theta with value amount equal to number of columns in trainX\n",
    "theta = np.matrix(np.zeros(trainXVals.shape[1]))"
   ]
  },
  {
   "cell_type": "code",
   "execution_count": 14,
   "metadata": {},
   "outputs": [],
   "source": [
    "# Calculate theta using normal equation\n",
    "xTrans = np.transpose(trainXVals)\n",
    "xTransDotX = xTrans.dot(trainXVals)\n",
    "temp1 = np.linalg.pinv(xTransDotX)\n",
    "\n",
    "temp2 = xTrans.dot(trainYVals)\n",
    "g = temp1.dot(temp2)\n",
    "g = g.transpose()"
   ]
  },
  {
   "cell_type": "code",
   "execution_count": 15,
   "metadata": {},
   "outputs": [
    {
     "data": {
      "text/html": "<div>\n<style scoped>\n    .dataframe tbody tr th:only-of-type {\n        vertical-align: middle;\n    }\n\n    .dataframe tbody tr th {\n        vertical-align: top;\n    }\n\n    .dataframe thead th {\n        text-align: right;\n    }\n</style>\n<table border=\"1\" class=\"dataframe\">\n  <thead>\n    <tr style=\"text-align: right;\">\n      <th></th>\n      <th>0</th>\n    </tr>\n  </thead>\n  <tbody>\n    <tr>\n      <th>0</th>\n      <td>0.755799</td>\n    </tr>\n    <tr>\n      <th>1</th>\n      <td>0.671631</td>\n    </tr>\n    <tr>\n      <th>2</th>\n      <td>0.706232</td>\n    </tr>\n    <tr>\n      <th>3</th>\n      <td>0.670180</td>\n    </tr>\n    <tr>\n      <th>4</th>\n      <td>0.696114</td>\n    </tr>\n    <tr>\n      <th>...</th>\n      <td>...</td>\n    </tr>\n    <tr>\n      <th>4393</th>\n      <td>0.778506</td>\n    </tr>\n    <tr>\n      <th>4394</th>\n      <td>0.804266</td>\n    </tr>\n    <tr>\n      <th>4395</th>\n      <td>0.752257</td>\n    </tr>\n    <tr>\n      <th>4396</th>\n      <td>0.724496</td>\n    </tr>\n    <tr>\n      <th>4397</th>\n      <td>0.613498</td>\n    </tr>\n  </tbody>\n</table>\n<p>4398 rows × 1 columns</p>\n</div>",
      "text/plain": "             0\n0     0.755799\n1     0.671631\n2     0.706232\n3     0.670180\n4     0.696114\n...        ...\n4393  0.778506\n4394  0.804266\n4395  0.752257\n4396  0.724496\n4397  0.613498\n\n[4398 rows x 1 columns]"
     },
     "execution_count": 15,
     "metadata": {},
     "output_type": "execute_result"
    }
   ],
   "source": [
    "newRes = testX.dot(g.transpose())\n",
    "newRes"
   ]
  },
  {
   "cell_type": "code",
   "execution_count": 16,
   "metadata": {},
   "outputs": [
    {
     "data": {
      "text/plain": "0       0.755799\n1       0.671631\n2       0.706232\n3       0.670180\n4       0.696114\n          ...   \n4393    0.778506\n4394    0.804266\n4395    0.752257\n4396    0.724496\n4397    0.613498\nName: 0, Length: 4398, dtype: float64"
     },
     "execution_count": 16,
     "metadata": {},
     "output_type": "execute_result"
    }
   ],
   "source": [
    "newRes[0] = newRes[0].fillna(0)\n",
    "newRes[0]"
   ]
  },
  {
   "cell_type": "code",
   "execution_count": 17,
   "metadata": {},
   "outputs": [
    {
     "data": {
      "text/html": "<div>\n<style scoped>\n    .dataframe tbody tr th:only-of-type {\n        vertical-align: middle;\n    }\n\n    .dataframe tbody tr th {\n        vertical-align: top;\n    }\n\n    .dataframe thead th {\n        text-align: right;\n    }\n</style>\n<table border=\"1\" class=\"dataframe\">\n  <thead>\n    <tr style=\"text-align: right;\">\n      <th></th>\n      <th>0</th>\n    </tr>\n  </thead>\n  <tbody>\n    <tr>\n      <th>0</th>\n      <td>15.978859</td>\n    </tr>\n    <tr>\n      <th>1</th>\n      <td>14.199416</td>\n    </tr>\n    <tr>\n      <th>2</th>\n      <td>14.930937</td>\n    </tr>\n    <tr>\n      <th>3</th>\n      <td>14.168728</td>\n    </tr>\n    <tr>\n      <th>4</th>\n      <td>14.717018</td>\n    </tr>\n    <tr>\n      <th>...</th>\n      <td>...</td>\n    </tr>\n    <tr>\n      <th>4393</th>\n      <td>16.458923</td>\n    </tr>\n    <tr>\n      <th>4394</th>\n      <td>17.003532</td>\n    </tr>\n    <tr>\n      <th>4395</th>\n      <td>15.903972</td>\n    </tr>\n    <tr>\n      <th>4396</th>\n      <td>15.317065</td>\n    </tr>\n    <tr>\n      <th>4397</th>\n      <td>12.970391</td>\n    </tr>\n  </tbody>\n</table>\n<p>4398 rows × 1 columns</p>\n</div>",
      "text/plain": "              0\n0     15.978859\n1     14.199416\n2     14.930937\n3     14.168728\n4     14.717018\n...         ...\n4393  16.458923\n4394  17.003532\n4395  15.903972\n4396  15.317065\n4397  12.970391\n\n[4398 rows x 1 columns]"
     },
     "execution_count": 17,
     "metadata": {},
     "output_type": "execute_result"
    }
   ],
   "source": [
    "# Undo scaling\n",
    "newRes = newRes * rangeVal\n",
    "newRes = newRes + minVal\n",
    "newRes"
   ]
  },
  {
   "cell_type": "code",
   "execution_count": 18,
   "metadata": {},
   "outputs": [
    {
     "data": {
      "text/html": "<div>\n<style scoped>\n    .dataframe tbody tr th:only-of-type {\n        vertical-align: middle;\n    }\n\n    .dataframe tbody tr th {\n        vertical-align: top;\n    }\n\n    .dataframe thead th {\n        text-align: right;\n    }\n</style>\n<table border=\"1\" class=\"dataframe\">\n  <thead>\n    <tr style=\"text-align: right;\">\n      <th></th>\n      <th>0</th>\n    </tr>\n  </thead>\n  <tbody>\n    <tr>\n      <th>0</th>\n      <td>8.700221e+06</td>\n    </tr>\n    <tr>\n      <th>1</th>\n      <td>1.468006e+06</td>\n    </tr>\n    <tr>\n      <th>2</th>\n      <td>3.050868e+06</td>\n    </tr>\n    <tr>\n      <th>3</th>\n      <td>1.423641e+06</td>\n    </tr>\n    <tr>\n      <th>4</th>\n      <td>2.463315e+06</td>\n    </tr>\n    <tr>\n      <th>...</th>\n      <td>...</td>\n    </tr>\n    <tr>\n      <th>4393</th>\n      <td>1.406110e+07</td>\n    </tr>\n    <tr>\n      <th>4394</th>\n      <td>2.424041e+07</td>\n    </tr>\n    <tr>\n      <th>4395</th>\n      <td>8.072488e+06</td>\n    </tr>\n    <tr>\n      <th>4396</th>\n      <td>4.488659e+06</td>\n    </tr>\n    <tr>\n      <th>4397</th>\n      <td>4.295061e+05</td>\n    </tr>\n  </tbody>\n</table>\n<p>4398 rows × 1 columns</p>\n</div>",
      "text/plain": "                 0\n0     8.700221e+06\n1     1.468006e+06\n2     3.050868e+06\n3     1.423641e+06\n4     2.463315e+06\n...            ...\n4393  1.406110e+07\n4394  2.424041e+07\n4395  8.072488e+06\n4396  4.488659e+06\n4397  4.295061e+05\n\n[4398 rows x 1 columns]"
     },
     "execution_count": 18,
     "metadata": {},
     "output_type": "execute_result"
    }
   ],
   "source": [
    "newRes = np.exp(newRes)\n",
    "newRes"
   ]
  },
  {
   "cell_type": "code",
   "execution_count": 19,
   "metadata": {},
   "outputs": [
    {
     "data": {
      "text/html": "<div>\n<style scoped>\n    .dataframe tbody tr th:only-of-type {\n        vertical-align: middle;\n    }\n\n    .dataframe tbody tr th {\n        vertical-align: top;\n    }\n\n    .dataframe thead th {\n        text-align: right;\n    }\n</style>\n<table border=\"1\" class=\"dataframe\">\n  <thead>\n    <tr style=\"text-align: right;\">\n      <th></th>\n      <th>id</th>\n      <th>revenue</th>\n    </tr>\n  </thead>\n  <tbody>\n    <tr>\n      <th>0</th>\n      <td>3001</td>\n      <td>8.700221e+06</td>\n    </tr>\n    <tr>\n      <th>1</th>\n      <td>3002</td>\n      <td>1.468006e+06</td>\n    </tr>\n    <tr>\n      <th>2</th>\n      <td>3003</td>\n      <td>3.050868e+06</td>\n    </tr>\n    <tr>\n      <th>3</th>\n      <td>3004</td>\n      <td>1.423641e+06</td>\n    </tr>\n    <tr>\n      <th>4</th>\n      <td>3005</td>\n      <td>2.463315e+06</td>\n    </tr>\n    <tr>\n      <th>...</th>\n      <td>...</td>\n      <td>...</td>\n    </tr>\n    <tr>\n      <th>4393</th>\n      <td>7394</td>\n      <td>1.406110e+07</td>\n    </tr>\n    <tr>\n      <th>4394</th>\n      <td>7395</td>\n      <td>2.424041e+07</td>\n    </tr>\n    <tr>\n      <th>4395</th>\n      <td>7396</td>\n      <td>8.072488e+06</td>\n    </tr>\n    <tr>\n      <th>4396</th>\n      <td>7397</td>\n      <td>4.488659e+06</td>\n    </tr>\n    <tr>\n      <th>4397</th>\n      <td>7398</td>\n      <td>4.295061e+05</td>\n    </tr>\n  </tbody>\n</table>\n<p>4398 rows × 2 columns</p>\n</div>",
      "text/plain": "        id       revenue\n0     3001  8.700221e+06\n1     3002  1.468006e+06\n2     3003  3.050868e+06\n3     3004  1.423641e+06\n4     3005  2.463315e+06\n...    ...           ...\n4393  7394  1.406110e+07\n4394  7395  2.424041e+07\n4395  7396  8.072488e+06\n4396  7397  4.488659e+06\n4397  7398  4.295061e+05\n\n[4398 rows x 2 columns]"
     },
     "execution_count": 19,
     "metadata": {},
     "output_type": "execute_result"
    }
   ],
   "source": [
    "indArr = []\n",
    "for i in range(3001, 3001 + 4398):\n",
    "    indArr.append(i)\n",
    "newRes.insert(0, 'id', indArr, 1)\n",
    "newRes.columns = ['id', 'revenue']\n",
    "newRes"
   ]
  },
  {
   "cell_type": "code",
   "execution_count": 20,
   "metadata": {},
   "outputs": [],
   "source": [
    "newRes.to_csv('/home/kito/Desktop/sem5/მანქანური სწავლება/tmdb-box-office-prediction/solution.csv', index=False)"
   ]
  },
  {
   "cell_type": "code",
   "execution_count": null,
   "metadata": {},
   "outputs": [],
   "source": []
  }
 ],
 "metadata": {
  "kernelspec": {
   "display_name": "Python 3",
   "language": "python",
   "name": "python3"
  }
 },
 "nbformat": 4,
 "nbformat_minor": 2
}